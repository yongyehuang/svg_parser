{
 "cells": [
  {
   "cell_type": "markdown",
   "metadata": {},
   "source": [
    "整个项目的代码在我的 GitHub 上面，直接 download 后可以使用。\n",
    "\n",
    "首先需要安装的一些 python 库：\n",
    "\n",
    "pip install svgwrite\n",
    "\n",
    "pip install svgpathtools\n",
    "\n",
    "pip install wand\n",
    "\n",
    "\n",
    "# 1. svg 生成 png\n",
    "refer: http://docs.wand-py.org/en/0.4.4/\n",
    "\n",
    "网上找的一些 svg 生成 png 的方式貌似很复杂，后来发现 wand 库直接读入 svg 图片后可以保存为 png.暂时还没有测试效率，但是对于小样本的话应该没什么问题。"
   ]
  },
  {
   "cell_type": "code",
   "execution_count": 1,
   "metadata": {
    "collapsed": true
   },
   "outputs": [],
   "source": [
    "from wand.image import Image\n",
    "from wand.display import display\n",
    "\n",
    "# 导入 svg 图片并存成 png 格式\n",
    "input_file = 'data/airplane/1.svg'\n",
    "output_file = 'data/1.png'\n",
    "\n",
    "with Image(filename=input_file) as img:\n",
    "    img.resize(224, 224)\n",
    "    img.save(filename=output_file)"
   ]
  },
  {
   "cell_type": "markdown",
   "metadata": {},
   "source": [
    "### 查看生成的图片"
   ]
  },
  {
   "cell_type": "code",
   "execution_count": 2,
   "metadata": {
    "collapsed": true
   },
   "outputs": [],
   "source": [
    "import PIL.Image as pimg\n",
    "import numpy as np"
   ]
  },
  {
   "cell_type": "code",
   "execution_count": 3,
   "metadata": {},
   "outputs": [
    {
     "name": "stdout",
     "output_type": "stream",
     "text": [
      "(224, 224, 2)\n"
     ]
    },
    {
     "data": {
      "image/png": "[encoded data removed]",
      "text/plain": [
       "<PIL.PngImagePlugin.PngImageFile image mode=LA size=224x224 at 0x7F25880B5828>"
      ]
     },
     "execution_count": 3,
     "metadata": {},
     "output_type": "execute_result"
    }
   ],
   "source": [
    "img = pimg.open(output_file)\n",
    "# img = img.resize((224,224))\n",
    "_img = np.asarray(img)\n",
    "print(_img.shape)\n",
    "img"
   ]
  },
  {
   "cell_type": "markdown",
   "metadata": {},
   "source": [
    "这里生成的 png 是 2通道的，不过从输出来的 png 图形来看应该没有什么问题。"
   ]
  },
  {
   "cell_type": "markdown",
   "metadata": {},
   "source": [
    "# 2. 解析 svg 笔画路径序列"
   ]
  },
  {
   "cell_type": "markdown",
   "metadata": {},
   "source": [
    "svg 笔画路径解析比较复杂，这里只解释一下 svg_to_np 函数，至于 svg 文件夹中一些辅助函数太复杂了，其实也没有去认真研究的必要。\n",
    "\n",
    "简单的使用例子见： https://github.com/yongyehuang/svg_parser/blob/master/example.py"
   ]
  },
  {
   "cell_type": "code",
   "execution_count": 4,
   "metadata": {
    "collapsed": true
   },
   "outputs": [],
   "source": [
    "from svg.path import parse_path\n",
    "\n",
    "import numpy as np\n",
    "from xml.dom import minidom\n",
    "import time"
   ]
  },
  {
   "cell_type": "markdown",
   "metadata": {},
   "source": [
    "下面贴出两个笔画的代码如下，关于 svg 代码的理解请参考 [Sketch Learning - SVG 是什么？](http://blog.csdn.net/Jerr__y/article/details/79173314)\n",
    "\n",
    "```\n",
    "<path id=\"0\" d=\"M167 268 C167 268 169.3665 263.4813 172 262 C175.9896 259.7559 177.6387 259.2365 183 259 C210.4512 257.7889 216.727 256.0078 240 259 C245.7803 259.7432 247.6027 262.8186 253 268 C259.5845 274.3211 265 283 265 283 \"/>\n",
    "<path id=\"1\" d=\"M171 264 C171 264 156.0157 299.1415 149 333 C144.9744 352.4277 146.294 356.9169 148 375 C148.4708 379.991 151.6471 385.2605 154 386 C161.2152 388.2676 172.6028 390.1283 183 386 C200.8261 378.922 205.9707 374.266 222 359 C235.7293 345.9245 235.8428 342.9286 246 326 C251.8714 316.2143 249.7558 314.4885 255 304 C260.64 292.72 268 282 268 282 \"/>\n",
    "```\n",
    "\n",
    "整个函数如下，其中 original_flag 设置为 True 的话将会解析原本 svg 的点的坐标。最后每个曲线只得到一个起始点和一个终点，但是曲线中间的一些点就不考虑了，这样得到的结果其实是不够准确的。\n",
    "\n",
    "比如  ```C167 268 169.3665 263.4813 172 262```  曲线，解析出来就只有一个终点（172 262）\n",
    "\n",
    "所以我们需要对曲线中间的一些点进行采样，此时，通过 sample_len 来进行控制采样频率。\n",
    "\n",
    "另外，不同数据集中解析出来的序列长度可能会相差较大，如果我们要用同一个模型进行学习的话，最好控制样本序列长度分布大概一致，这样就可以通过采样来控制了。\n",
    "\n",
    "sample_len 是控制采样的参数，sample_len=20 表示每 20 个原始坐标采一个点。 **sample_len 设置越大，那么最后得到的序列就会越短。**"
   ]
  },
  {
   "cell_type": "code",
   "execution_count": 5,
   "metadata": {
    "collapsed": true
   },
   "outputs": [],
   "source": [
    "def svg_to_np(svg_file_name, sample_len=20, original_flag=False):\n",
    "    \"\"\"Parse the svg file to coordinate sequence.\n",
    "    Args:\n",
    "        svg_file_name: The path of the svg file.\n",
    "        sample_len: dot sample parameter, the larger sample_len is, the less dot will get. Only works when original_flag is Fasle.\n",
    "        original_flag: If True, get the original coordinates. If False, get the sampled coordinates.\n",
    "    Returns:\n",
    "        image_coord: numpy.ndarray with shape [n_dot, 3], coordinate sequence. Each line denotes the location for a dot [x, y, is_end]\n",
    "        if is_end == 1, the dot is the end of a stroke.\n",
    "    \"\"\"\n",
    "    xml_file = minidom.parse(svg_file_name)\n",
    "    paths = xml_file.getElementsByTagName(\"path\")\n",
    "    xcoords = []\n",
    "    ycoords = []\n",
    "    pcoords = []\n",
    "    for path_idx, path_element in enumerate(paths):\n",
    "        mypath = parse_path(path_element.attributes[\"d\"].value)\n",
    "        # len(mypath)...number of offsets/segments\n",
    "        try:\n",
    "            mypath_len = int(mypath.length())  # strokeLen...natural length of the whole stroke\n",
    "        except ZeroDivisionError:\n",
    "            mypath_len = 0\n",
    "        if original_flag | (mypath_len < sample_len):\n",
    "            xcoords.append(mypath[0].start.real)\n",
    "            ycoords.append(mypath[0].start.imag)\n",
    "            pcoords.append(0.0)\n",
    "            for offset_idx in range(len(mypath)):\n",
    "                xcoords.append(mypath[offset_idx].end.real)\n",
    "                ycoords.append(mypath[offset_idx].end.imag)\n",
    "                pcoords.append(0.0)\n",
    "            pcoords[-1] = 1.0\n",
    "        else:\n",
    "            # Divide a stroke into max_iter dots.\n",
    "            # The larger sample_len is, the less dot will get.\n",
    "            max_iter = mypath_len / sample_len\n",
    "            x = 0.0\n",
    "            for i in range(int(max_iter)):\n",
    "                xcoords.append(mypath.point(x).real)\n",
    "                ycoords.append(mypath.point(x).imag)\n",
    "                pcoords.append(0.0)\n",
    "                x = np.float32(x + (1 / max_iter))\n",
    "            xcoords.append(mypath.point(1.0).real)\n",
    "            ycoords.append(mypath.point(1.0).imag)\n",
    "            pcoords.append(1.0)\n",
    "    image_coord = np.column_stack((np.asarray(xcoords), np.asarray(ycoords), np.asarray(pcoords)))\n",
    "    return image_coord"
   ]
  },
  {
   "cell_type": "code",
   "execution_count": 6,
   "metadata": {},
   "outputs": [
    {
     "name": "stdout",
     "output_type": "stream",
     "text": [
      "Time cost 3.101670980453491s\n",
      "(145, 3)\n",
      "[[167 268   0]\n",
      " [172 262   0]\n",
      " [183 259   0]\n",
      " [240 259   0]\n",
      " [253 268   0]\n",
      " [265 283   1]\n",
      " [171 264   0]\n",
      " [149 333   0]\n",
      " [148 375   0]\n",
      " [154 386   0]]\n"
     ]
    }
   ],
   "source": [
    "# 不做采样\n",
    "tic = time.time()\n",
    "svg_file = 'data/airplane/1.svg'\n",
    "image_coord = svg_to_np(svg_file, original_flag=True)\n",
    "image_coord = image_coord.astype('int')\n",
    "print('Time cost {}s'.format(time.time() - tic))\n",
    "print(image_coord.shape)\n",
    "print(image_coord[:10])"
   ]
  },
  {
   "cell_type": "code",
   "execution_count": 7,
   "metadata": {
    "scrolled": false
   },
   "outputs": [
    {
     "name": "stdout",
     "output_type": "stream",
     "text": [
      "Time cost 3.1076252460479736s\n",
      "(127, 3)\n",
      "[[167 268   0]\n",
      " [183 258   0]\n",
      " [206 257   0]\n",
      " [223 257   0]\n",
      " [243 259   0]\n",
      " [265 283   1]\n",
      " [171 264   0]\n",
      " [168 271   0]\n",
      " [161 290   0]\n",
      " [153 315   0]]\n"
     ]
    }
   ],
   "source": [
    "# 进行采样\n",
    "tic = time.time()\n",
    "svg_file = 'data/airplane/1.svg'\n",
    "image_coord = svg_to_np(svg_file)\n",
    "image_coord = image_coord.astype('int')\n",
    "print('Time cost {}s'.format(time.time() - tic))\n",
    "print(image_coord.shape)\n",
    "print(image_coord[:10])"
   ]
  },
  {
   "cell_type": "markdown",
   "metadata": {},
   "source": [
    "先看结果，对比之前贴出的 svg 源码，你会发现，如果不进行采样，那么得到的序列中的点都是原来每个曲线的终点（除了起始点）。但是如果进行采样，解析出来的坐标位置并不是直接在 svg 的代码中出现的数值，这是因为 svg 的一些坐标指的是控制点的位置，并不是真实的点位置。关于怎么通过控制点、起始点和终点来计算出笔画中每个点的位置，我也不懂，也没有必要去弄懂，直接用已有的库来解析就好了，我们要做的就是理解一下这些库函数有哪些作用。\n",
    "\n",
    "说实话，这份代码解析 svg 还是真慢的不行，但是现在还没有找到更好的方法，只能开满进程让他跑。\n",
    "\n",
    "下面来每个步骤分析一下："
   ]
  },
  {
   "cell_type": "markdown",
   "metadata": {},
   "source": [
    "首先使用 minidom.parse 把 svg 文件解析，svg 文件实际上就是 XML 代码，得到一个 Document 对象。"
   ]
  },
  {
   "cell_type": "code",
   "execution_count": 8,
   "metadata": {},
   "outputs": [
    {
     "data": {
      "text/plain": [
       "<xml.dom.minidom.Document at 0x7f2583846048>"
      ]
     },
     "execution_count": 8,
     "metadata": {},
     "output_type": "execute_result"
    }
   ],
   "source": [
    "xml_file = minidom.parse(svg_file)\n",
    "xml_file"
   ]
  },
  {
   "cell_type": "markdown",
   "metadata": {},
   "source": [
    "通过 getElementsByTagName('path') 得到每个笔画元素。"
   ]
  },
  {
   "cell_type": "code",
   "execution_count": 9,
   "metadata": {},
   "outputs": [
    {
     "name": "stdout",
     "output_type": "stream",
     "text": [
      "19\n",
      "<class 'xml.dom.minidom.Element'>\n"
     ]
    }
   ],
   "source": [
    "paths = xml_file.getElementsByTagName('path')  # 获取所有的 <path> 标签\n",
    "print(len(paths))   # 笔画数目\n",
    "print(type(paths[0]))"
   ]
  },
  {
   "cell_type": "code",
   "execution_count": 10,
   "metadata": {},
   "outputs": [
    {
     "data": {
      "text/plain": [
       "<DOM Element: path at 0x7f25838412a8>"
      ]
     },
     "execution_count": 10,
     "metadata": {},
     "output_type": "execute_result"
    }
   ],
   "source": [
    "path0 = paths[0]\n",
    "path0"
   ]
  },
  {
   "cell_type": "markdown",
   "metadata": {},
   "source": [
    "可以获取这个笔画的数值，所有元素的形状都通过 d 属性来定义。"
   ]
  },
  {
   "cell_type": "code",
   "execution_count": 11,
   "metadata": {
    "scrolled": false
   },
   "outputs": [
    {
     "data": {
      "text/plain": [
       "'M167 268 C167 268 169.3665 263.4813 172 262 C175.9896 259.7559 177.6387 259.2365 183 259 C210.4512 257.7889 216.727 256.0078 240 259 C245.7803 259.7432 247.6027 262.8186 253 268 C259.5845 274.3211 265 283 265 283 '"
      ]
     },
     "execution_count": 11,
     "metadata": {},
     "output_type": "execute_result"
    }
   ],
   "source": [
    "path0.attributes['d'].value"
   ]
  },
  {
   "cell_type": "markdown",
   "metadata": {},
   "source": [
    "调用 svg 文件夹中的 parse_path 函数解析 d 属性的值, 得到一个  Path 对象，这一部分是最难的，我觉得没有必要去理解。"
   ]
  },
  {
   "cell_type": "code",
   "execution_count": 12,
   "metadata": {},
   "outputs": [
    {
     "name": "stdout",
     "output_type": "stream",
     "text": [
      "Path(CubicBezier(start=(167+268j), control1=(167+268j), control2=(169.3665+263.4813j), end=(172+262j)), CubicBezier(start=(172+262j), control1=(175.9896+259.7559j), control2=(177.6387+259.2365j), end=(183+259j)), CubicBezier(start=(183+259j), control1=(210.4512+257.7889j), control2=(216.727+256.0078j), end=(240+259j)), CubicBezier(start=(240+259j), control1=(245.7803+259.7432j), control2=(247.6027+262.8186j), end=(253+268j)), CubicBezier(start=(253+268j), control1=(259.5845+274.3211j), control2=(265+283j), end=(265+283j)), closed=False)\n"
     ]
    }
   ],
   "source": [
    "mypath = parse_path(path0.attributes[\"d\"].value)\n",
    "print(mypath)"
   ]
  },
  {
   "cell_type": "code",
   "execution_count": 13,
   "metadata": {},
   "outputs": [
    {
     "name": "stdout",
     "output_type": "stream",
     "text": [
      "5\n"
     ]
    }
   ],
   "source": [
    "# 直接使用 len() 得到这个笔画一共有 5 个曲线\n",
    "print(len(mypath))"
   ]
  },
  {
   "cell_type": "code",
   "execution_count": 14,
   "metadata": {},
   "outputs": [
    {
     "data": {
      "text/plain": [
       "112.00915293195905"
      ]
     },
     "execution_count": 14,
     "metadata": {},
     "output_type": "execute_result"
    }
   ],
   "source": [
    "# 这里返回的是这个笔画原始的点数\n",
    "mypath.length()"
   ]
  },
  {
   "cell_type": "code",
   "execution_count": 15,
   "metadata": {},
   "outputs": [
    {
     "name": "stdout",
     "output_type": "stream",
     "text": [
      "CubicBezier(start=(183+259j), control1=(210.4512+257.7889j), control2=(216.727+256.0078j), end=(240+259j))\n",
      "240.0\n",
      "259.0\n"
     ]
    }
   ],
   "source": [
    "print(mypath[2])\n",
    "print(mypath[2].end.real)\n",
    "print(mypath[2].end.imag)"
   ]
  },
  {
   "cell_type": "code",
   "execution_count": 16,
   "metadata": {},
   "outputs": [
    {
     "name": "stdout",
     "output_type": "stream",
     "text": [
      "(167+268j)\n",
      "(167.00000000142919+267.9999999972709j)\n",
      "(174.99095586038317+260.46378507138513j)\n",
      "(219.68878972497367+257.3749255814213j)\n",
      "(265+283j)\n"
     ]
    }
   ],
   "source": [
    "# point(0.1) 表示这个笔画在 十分之一的点的位置\n",
    "print(mypath.point(0))\n",
    "print(mypath.point(0.000001))\n",
    "print(mypath.point(0.1))\n",
    "print(mypath.point(0.5))\n",
    "print(mypath.point(1))"
   ]
  },
  {
   "cell_type": "markdown",
   "metadata": {},
   "source": [
    "### 逐个笔画进行输出\n",
    "现在还有一个问题就是这些笔画的顺序解析出来是怎样的，是不是按照绘画者画图的顺序进行保存的？"
   ]
  },
  {
   "cell_type": "code",
   "execution_count": 36,
   "metadata": {},
   "outputs": [
    {
     "name": "stdout",
     "output_type": "stream",
     "text": [
      "(127, 3)\n",
      "[[167 268   0]\n",
      " [183 258   0]\n",
      " [206 257   0]]\n"
     ]
    }
   ],
   "source": [
    "import matplotlib.pyplot as plt\n",
    "\n",
    "print(image_coord.shape)\n",
    "print(image_coord[:3])"
   ]
  },
  {
   "cell_type": "code",
   "execution_count": 56,
   "metadata": {
    "scrolled": true
   },
   "outputs": [
    {
     "data": {
      "image/png": "[encoded data removed]",
      "text/plain": [
       "<matplotlib.figure.Figure at 0x7f258132f9e8>"
      ]
     },
     "metadata": {},
     "output_type": "display_data"
    }
   ],
   "source": [
    "def plot_coord(coord):\n",
    "    \"\"\"绘制解析后的图。\"\"\"\n",
    "    # 根据最后的一位划分笔画\n",
    "    cut_ids = filter(lambda i: coord[:, -1][i] == 1, range(len(coord)))\n",
    "\n",
    "    left = 0\n",
    "    right = 0\n",
    "    count = 0\n",
    "    for right in cut_ids:\n",
    "        x = coord[left:right+1, 0]\n",
    "        y = 800 - coord[left:right+1, 1]\n",
    "        plt.plot(x, y, 'r-', label=str(count))\n",
    "        plt.text(x[0]+20, y[0] + 20, str(count))\n",
    "        plt.text(x[-1]+20, y[-1] + 20, str(count))\n",
    "\n",
    "        left = right + 1\n",
    "        count += 1\n",
    "#     plt.legend(loc='right')\n",
    "    plt.show()\n",
    "    \n",
    "plot_coord(image_coord)"
   ]
  },
  {
   "cell_type": "markdown",
   "metadata": {
    "collapsed": true
   },
   "source": [
    "好吧，上面的图效果并不好，还是需要做个动图才行"
   ]
  },
  {
   "cell_type": "markdown",
   "metadata": {},
   "source": [
    "最后贴一下这个 parse_path 函数，其实我自己也没看这个函数。。。"
   ]
  },
  {
   "cell_type": "code",
   "execution_count": 17,
   "metadata": {
    "collapsed": true
   },
   "outputs": [],
   "source": [
    "# Signature: parse_path(pathdef, current_pos=0j)\n",
    "# Source:   \n",
    "def parse_path(pathdef, current_pos=0j):\n",
    "    # In the SVG specs, initial movetos are absolute, even if\n",
    "    # specified as 'm'. This is the default behavior here as well.\n",
    "    # But if you pass in a current_pos variable, the initial moveto\n",
    "    # will be relative to that current_pos. This is useful.\n",
    "    elements = list(_tokenize_path(pathdef))\n",
    "    # Reverse for easy use of .pop()\n",
    "    elements.reverse()\n",
    "\n",
    "    segments = path.Path()\n",
    "    start_pos = None\n",
    "    command = None\n",
    "\n",
    "    while elements:\n",
    "\n",
    "        if elements[-1] in COMMANDS:\n",
    "            # New command.\n",
    "            last_command = command  # Used by S and T\n",
    "            command = elements.pop()\n",
    "            absolute = command in UPPERCASE\n",
    "            command = command.upper()\n",
    "        else:\n",
    "            # If this element starts with numbers, it is an implicit command\n",
    "            # and we don't change the command. Check that it's allowed:\n",
    "            if command is None:\n",
    "                raise ValueError(\"Unallowed implicit command in %s, position %s\" % (\n",
    "                    pathdef, len(pathdef.split()) - len(elements)))\n",
    "\n",
    "        if command == 'M':\n",
    "            # Moveto command.\n",
    "            x = elements.pop()\n",
    "            y = elements.pop()\n",
    "            pos = float(x) + float(y) * 1j\n",
    "            if absolute:\n",
    "                current_pos = pos\n",
    "            else:\n",
    "                current_pos += pos\n",
    "\n",
    "            # when M is called, reset start_pos\n",
    "            # This behavior of Z is defined in svg spec:\n",
    "            # http://www.w3.org/TR/SVG/paths.html#PathDataClosePathCommand\n",
    "            start_pos = current_pos\n",
    "\n",
    "            # Implicit moveto commands are treated as lineto commands.\n",
    "            # So we set command to lineto here, in case there are\n",
    "            # further implicit commands after this moveto.\n",
    "            command = 'L'\n",
    "\n",
    "        elif command == 'Z':\n",
    "            # Close path\n",
    "            segments.append(path.Line(current_pos, start_pos))\n",
    "            segments.closed = True\n",
    "            current_pos = start_pos\n",
    "            start_pos = None\n",
    "            command = None  # You can't have implicit commands after closing.\n",
    "\n",
    "        elif command == 'L':\n",
    "            x = elements.pop()\n",
    "            y = elements.pop()\n",
    "            pos = float(x) + float(y) * 1j\n",
    "            if not absolute:\n",
    "                pos += current_pos\n",
    "            segments.append(path.Line(current_pos, pos))\n",
    "            current_pos = pos\n",
    "\n",
    "        elif command == 'H':\n",
    "            x = elements.pop()\n",
    "            pos = float(x) + current_pos.imag * 1j\n",
    "            if not absolute:\n",
    "                pos += current_pos.real\n",
    "            segments.append(path.Line(current_pos, pos))\n",
    "            current_pos = pos\n",
    "\n",
    "        elif command == 'V':\n",
    "            y = elements.pop()\n",
    "            pos = current_pos.real + float(y) * 1j\n",
    "            if not absolute:\n",
    "                pos += current_pos.imag * 1j\n",
    "            segments.append(path.Line(current_pos, pos))\n",
    "            current_pos = pos\n",
    "\n",
    "        elif command == 'C':\n",
    "            control1 = float(elements.pop()) + float(elements.pop()) * 1j\n",
    "            control2 = float(elements.pop()) + float(elements.pop()) * 1j\n",
    "            end = float(elements.pop()) + float(elements.pop()) * 1j\n",
    "\n",
    "            if not absolute:\n",
    "                control1 += current_pos\n",
    "                control2 += current_pos\n",
    "                end += current_pos\n",
    "\n",
    "            segments.append(path.CubicBezier(current_pos, control1, control2, end))\n",
    "            current_pos = end\n",
    "\n",
    "        elif command == 'S':\n",
    "            # Smooth curve. First control point is the \"reflection\" of\n",
    "            # the second control point in the previous path.\n",
    "\n",
    "            if last_command not in 'CS':\n",
    "                # If there is no previous command or if the previous command\n",
    "                # was not an C, c, S or s, assume the first control point is\n",
    "                # coincident with the current point.\n",
    "                control1 = current_pos\n",
    "            else:\n",
    "                # The first control point is assumed to be the reflection of\n",
    "                # the second control point on the previous command relative\n",
    "                # to the current point.\n",
    "                control1 = current_pos + current_pos - segments[-1].control2\n",
    "\n",
    "            control2 = float(elements.pop()) + float(elements.pop()) * 1j\n",
    "            end = float(elements.pop()) + float(elements.pop()) * 1j\n",
    "\n",
    "            if not absolute:\n",
    "                control2 += current_pos\n",
    "                end += current_pos\n",
    "\n",
    "            segments.append(path.CubicBezier(current_pos, control1, control2, end))\n",
    "            current_pos = end\n",
    "\n",
    "        elif command == 'Q':\n",
    "            control = float(elements.pop()) + float(elements.pop()) * 1j\n",
    "            end = float(elements.pop()) + float(elements.pop()) * 1j\n",
    "\n",
    "            if not absolute:\n",
    "                control += current_pos\n",
    "                end += current_pos\n",
    "\n",
    "            segments.append(path.QuadraticBezier(current_pos, control, end))\n",
    "            current_pos = end\n",
    "\n",
    "        elif command == 'T':\n",
    "            # Smooth curve. Control point is the \"reflection\" of\n",
    "            # the second control point in the previous path.\n",
    "\n",
    "            if last_command not in 'QT':\n",
    "                # If there is no previous command or if the previous command\n",
    "                # was not an Q, q, T or t, assume the first control point is\n",
    "                # coincident with the current point.\n",
    "                control = current_pos\n",
    "            else:\n",
    "                # The control point is assumed to be the reflection of\n",
    "                # the control point on the previous command relative\n",
    "                # to the current point.\n",
    "                control = current_pos + current_pos - segments[-1].control\n",
    "\n",
    "            end = float(elements.pop()) + float(elements.pop()) * 1j\n",
    "\n",
    "            if not absolute:\n",
    "                end += current_pos\n",
    "\n",
    "            segments.append(path.QuadraticBezier(current_pos, control, end))\n",
    "            current_pos = end\n",
    "\n",
    "        elif command == 'A':\n",
    "            radius = float(elements.pop()) + float(elements.pop()) * 1j\n",
    "            rotation = float(elements.pop())\n",
    "            arc = float(elements.pop())\n",
    "            sweep = float(elements.pop())\n",
    "            end = float(elements.pop()) + float(elements.pop()) * 1j\n",
    "\n",
    "            if not absolute:\n",
    "                end += current_pos\n",
    "\n",
    "            segments.append(path.Arc(current_pos, radius, rotation, arc, sweep, end))\n",
    "            current_pos = end\n",
    "\n",
    "    return segments"
   ]
  },
  {
   "cell_type": "code",
   "execution_count": null,
   "metadata": {
    "collapsed": true
   },
   "outputs": [],
   "source": []
  }
 ],
 "metadata": {
  "kernelspec": {
   "display_name": "Python 3",
   "language": "python",
   "name": "python3"
  },
  "language_info": {
   "codemirror_mode": {
    "name": "ipython",
    "version": 3
   },
   "file_extension": ".py",
   "mimetype": "text/x-python",
   "name": "python",
   "nbconvert_exporter": "python",
   "pygments_lexer": "ipython3",
   "version": "3.6.3"
  }
 },
 "nbformat": 4,
 "nbformat_minor": 2
}
